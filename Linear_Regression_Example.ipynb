{
  "nbformat": 4,
  "nbformat_minor": 0,
  "metadata": {
    "colab": {
      "provenance": []
    },
    "kernelspec": {
      "name": "python3",
      "display_name": "Python 3"
    },
    "language_info": {
      "name": "python"
    }
  },
  "cells": [
    {
      "cell_type": "markdown",
      "metadata": {
        "id": "8kbQAi2aQH9H"
      },
      "source": [
        "\n",
        "\n",
        "```\n",
        "# Mathematical description of Linear regression\n",
        "```\n",
        "\n",
        "$d = \\{(x_{i}, y_{i}): i = 1, 2, 3, \\cdot, n\\}$ \\\\\n",
        "$y_{i} = m x_{i} + c$ \\\\\n",
        "$y_{1} = m x_{1} + c$ \\\\\n",
        "$y_{2} = m x_{2} + c$ \\\\\n",
        "$\\cdots$ \\\\\n",
        "$y_{n} = m x_{n} + c$ \\\\\n",
        "The above system of equations can be written as in matrix form as follows: \\\\\n",
        "$\\begin{bmatrix} y_{1} \\\\ y_{2} \\\\ \\cdots \\\\ y_{n} \\end{bmatrix} =\n",
        "\\begin{bmatrix}\n",
        "\tx_{1} & 1  \\\\\n",
        "\tx_{2} & 1  \\\\\n",
        "  \\cdots \\\\\n",
        "\tx_{n} & 1  \\\\\n",
        "\t\\end{bmatrix} \\times \\begin{bmatrix} m \\\\ c \\end{bmatrix}$\n",
        "\n",
        "Where $\\begin{bmatrix}\n",
        "\tx_{1} & 1  \\\\\n",
        "\tx_{2} & 1  \\\\\n",
        "  \\cdots \\\\\n",
        "\tx_{n} & 1  \\\\\n",
        "\t\\end{bmatrix} = \\mathbf{A}$,\n",
        "$\\begin{bmatrix} m \\\\ c \\end{bmatrix} = \\vec{w}$, and $\\begin{bmatrix} y_{1} \\\\ y_{2} \\\\ \\cdots \\\\ y_{n} \\end{bmatrix} = \\vec{y}$ \\\\\n",
        "\n",
        "$\\mathbf{A}_{n \\times 2} \\, \\vec{w}_{2 \\times 1} = \\vec{y}_{n \\times 1}$ \\\\\n",
        "From the above relation, it is clear that we need to compute $\\vec{w}$ from the given data i.e. $\\mathbf{A}$ and $\\vec{y}$. \\\\\n",
        "The general solution of the above equation is: \\\\\n",
        "$\\vec{w} = \\mathbf{A}^{-1} \\, \\vec{y}$, if $\\mathbf{A}$ is a square matrix and $|A| \\neq 0$. However, in general, the data matrix $\\mathbf{A}$ is a non-square matrix. Therefore, we can't directly obtain the inverse of $\\mathbf{A}$. We can rewrite the above equation as follows: \\\\\n",
        "${\\mathbf{A}^{T}}_{2 \\times n} \\, \\mathbf{A}_{n \\times 2} \\, \\vec{w}_{2 \\times 1} = {\\mathbf{A}^{T}}_{2 \\times n} \\, \\vec{y}$. \\\\\n",
        "$\\vec{w} = (\\mathbf{A}^{T} \\mathbf{A})^{-1} \\, \\mathbf{A}^{T} \\, \\vec{y}$, where $|\\mathbf{A}^{T} \\mathbf{A}| \\neq 0$.  \n",
        "\n"
      ]
    },
    {
      "cell_type": "code",
      "metadata": {
        "id": "_JZqK7OtP6Iy"
      },
      "source": [
        "import numpy as np\n",
        "import matplotlib.pyplot as plt\n",
        "from scipy import linalg\n",
        "from sklearn.linear_model import LinearRegression\n",
        "from sklearn.metrics import mean_squared_error, r2_score"
      ],
      "execution_count": 27,
      "outputs": []
    },
    {
      "cell_type": "code",
      "metadata": {
        "id": "8qDGUZXaJNoG"
      },
      "source": [
        "Area = np.array([2600, 3000, 3200, 3600, 4000]).reshape((-1, 1))\n",
        "Price = np.array([550000, 565000, 610000, 680000, 725000])"
      ],
      "execution_count": 28,
      "outputs": []
    },
    {
      "cell_type": "code",
      "metadata": {
        "colab": {
          "base_uri": "https://localhost:8080/"
        },
        "id": "6w0mLInDJcJR",
        "outputId": "71026f1f-972f-4ace-9c6b-5063a3c6cffa"
      },
      "source": [
        "print(Area)\n",
        "print(Price)"
      ],
      "execution_count": 29,
      "outputs": [
        {
          "output_type": "stream",
          "name": "stdout",
          "text": [
            "[[2600]\n",
            " [3000]\n",
            " [3200]\n",
            " [3600]\n",
            " [4000]]\n",
            "[550000 565000 610000 680000 725000]\n"
          ]
        }
      ]
    },
    {
      "cell_type": "code",
      "metadata": {
        "colab": {
          "base_uri": "https://localhost:8080/",
          "height": 476
        },
        "id": "hHDDtAvuKuIX",
        "outputId": "bed3163c-3db7-4198-b24e-7fa4132a5b9f"
      },
      "source": [
        "plt.plot(Area, Price, 'o', color = 'red')\n",
        "plt.xlim(2500, 4100)\n",
        "#plt.axvline(x = 3400, linestyle = '--', color = 'black', lw = 1)\n",
        "#plt.axhline(y = 635000, linestyle = '--', color = 'black', lw = 1)\n",
        "plt.xlabel('Area (Sq.ft)', fontsize = 15)\n",
        "plt.ylabel('Price', fontsize = 15)\n",
        "plt.show()"
      ],
      "execution_count": 30,
      "outputs": [
        {
          "output_type": "display_data",
          "data": {
            "text/plain": [
              "<Figure size 640x480 with 1 Axes>"
            ],
            "image/png": "[encoded data removed]"
          },
          "metadata": {}
        }
      ]
    },
    {
      "cell_type": "code",
      "metadata": {
        "id": "iM4gIPbmZHtv"
      },
      "source": [
        "A = np.zeros((len(Area), 2))"
      ],
      "execution_count": 31,
      "outputs": []
    },
    {
      "cell_type": "code",
      "source": [
        "A.shape"
      ],
      "metadata": {
        "colab": {
          "base_uri": "https://localhost:8080/"
        },
        "id": "RJCADeGuVdr9",
        "outputId": "a549eadf-6ddb-48b4-cf8a-009a8df333bd"
      },
      "execution_count": 32,
      "outputs": [
        {
          "output_type": "execute_result",
          "data": {
            "text/plain": [
              "(5, 2)"
            ]
          },
          "metadata": {},
          "execution_count": 32
        }
      ]
    },
    {
      "cell_type": "code",
      "metadata": {
        "colab": {
          "base_uri": "https://localhost:8080/"
        },
        "id": "zuLAulEHZH4k",
        "outputId": "a9f84a03-4e80-4dc7-dd78-68403d1d7874"
      },
      "source": [
        "A[:, 0] = Area.flatten()\n",
        "A[:, 1] = np.ones(len(Area))\n",
        "print(A.shape)\n",
        "print(A)"
      ],
      "execution_count": 33,
      "outputs": [
        {
          "output_type": "stream",
          "name": "stdout",
          "text": [
            "(5, 2)\n",
            "[[2.6e+03 1.0e+00]\n",
            " [3.0e+03 1.0e+00]\n",
            " [3.2e+03 1.0e+00]\n",
            " [3.6e+03 1.0e+00]\n",
            " [4.0e+03 1.0e+00]]\n"
          ]
        }
      ]
    },
    {
      "cell_type": "code",
      "metadata": {
        "colab": {
          "base_uri": "https://localhost:8080/"
        },
        "id": "zPgpOXjsZ96_",
        "outputId": "ea959a5c-f513-42dd-859f-9c0bfb1cbad5"
      },
      "source": [
        "B1 = np.dot(A.T, A)\n",
        "print(B1.shape)"
      ],
      "execution_count": 34,
      "outputs": [
        {
          "output_type": "stream",
          "name": "stdout",
          "text": [
            "(2, 2)\n"
          ]
        }
      ]
    },
    {
      "cell_type": "code",
      "metadata": {
        "id": "jS9E6zHfcvU6",
        "colab": {
          "base_uri": "https://localhost:8080/"
        },
        "outputId": "781a4491-a6c5-44df-edbb-ccc23ed2f58a"
      },
      "source": [
        "print(linalg.det(B1))"
      ],
      "execution_count": 35,
      "outputs": [
        {
          "output_type": "stream",
          "name": "stdout",
          "text": [
            "5839999.999999979\n"
          ]
        }
      ]
    },
    {
      "cell_type": "code",
      "metadata": {
        "colab": {
          "base_uri": "https://localhost:8080/"
        },
        "id": "ERLUSLgCab-0",
        "outputId": "984614ec-31c3-46e2-8434-72612abf72b2"
      },
      "source": [
        "B1_inv = linalg.inv(B1)\n",
        "print(B1_inv.shape)\n",
        "print(B1_inv)"
      ],
      "execution_count": 36,
      "outputs": [
        {
          "output_type": "stream",
          "name": "stdout",
          "text": [
            "(2, 2)\n",
            "[[ 8.56164384e-07 -2.80821918e-03]\n",
            " [-2.80821918e-03  9.41095890e+00]]\n"
          ]
        }
      ]
    },
    {
      "cell_type": "code",
      "metadata": {
        "colab": {
          "base_uri": "https://localhost:8080/"
        },
        "id": "4qJlooQWavyJ",
        "outputId": "605ef1d5-c4cb-4f4f-8513-935d25115d7a"
      },
      "source": [
        "B2 = np.dot(B1_inv, A.T)\n",
        "print(B2.shape)\n",
        "print(B2)"
      ],
      "execution_count": 37,
      "outputs": [
        {
          "output_type": "stream",
          "name": "stdout",
          "text": [
            "(2, 5)\n",
            "[[-5.82191781e-04 -2.39726027e-04 -6.84931507e-05  2.73972603e-04\n",
            "   6.16438356e-04]\n",
            " [ 2.10958904e+00  9.86301370e-01  4.24657534e-01 -6.98630137e-01\n",
            "  -1.82191781e+00]]\n"
          ]
        }
      ]
    },
    {
      "cell_type": "code",
      "metadata": {
        "colab": {
          "base_uri": "https://localhost:8080/"
        },
        "id": "7CmPvY8na6mk",
        "outputId": "1559898a-5034-429e-d949-f76293bbdb33"
      },
      "source": [
        "sol1 = np.dot(B2, Price)\n",
        "print(sol1)"
      ],
      "execution_count": 38,
      "outputs": [
        {
          "output_type": "stream",
          "name": "stdout",
          "text": [
            "[1.35787671e+02 1.80616438e+05]\n"
          ]
        }
      ]
    },
    {
      "cell_type": "code",
      "metadata": {
        "colab": {
          "base_uri": "https://localhost:8080/"
        },
        "id": "rzY8-ZwhZH-A",
        "outputId": "ebd83649-e421-4167-d855-84c791790a3f"
      },
      "source": [
        "A_pinv = linalg.pinv(A)\n",
        "print(A_pinv.shape)\n",
        "print(A_pinv)"
      ],
      "execution_count": 39,
      "outputs": [
        {
          "output_type": "stream",
          "name": "stdout",
          "text": [
            "(2, 5)\n",
            "[[-5.82191781e-04 -2.39726027e-04 -6.84931507e-05  2.73972603e-04\n",
            "   6.16438356e-04]\n",
            " [ 2.10958904e+00  9.86301370e-01  4.24657534e-01 -6.98630137e-01\n",
            "  -1.82191781e+00]]\n"
          ]
        }
      ]
    },
    {
      "cell_type": "code",
      "metadata": {
        "colab": {
          "base_uri": "https://localhost:8080/"
        },
        "id": "AyT8nY4ZZIBv",
        "outputId": "72a12ca4-7aa6-4d99-c59a-b728a95fefd3"
      },
      "source": [
        "sol2 = np.dot(A_pinv, Price)\n",
        "print(sol1, sol2)"
      ],
      "execution_count": 40,
      "outputs": [
        {
          "output_type": "stream",
          "name": "stdout",
          "text": [
            "[1.35787671e+02 1.80616438e+05] [1.35787671e+02 1.80616438e+05]\n"
          ]
        }
      ]
    },
    {
      "cell_type": "code",
      "metadata": {
        "id": "F8VSltZjbpi3"
      },
      "source": [
        "slope = sol1[0]\n",
        "intercept = sol1[1]"
      ],
      "execution_count": 41,
      "outputs": []
    },
    {
      "cell_type": "code",
      "metadata": {
        "id": "M2r0cun-bptE"
      },
      "source": [
        "y_pred1 = slope* Area + intercept"
      ],
      "execution_count": 42,
      "outputs": []
    },
    {
      "cell_type": "code",
      "metadata": {
        "colab": {
          "base_uri": "https://localhost:8080/",
          "height": 476
        },
        "id": "l7yzYGcNcM_0",
        "outputId": "5a2ef88a-68d8-4635-adf2-464b683e3a59"
      },
      "source": [
        "plt.plot(Area, Price, 'o', color = 'red')\n",
        "plt.plot(Area, y_pred1, '-', color = 'navy')\n",
        "#plt.axvline(x = 3400, linestyle = '--', color = 'black', lw = 1)\n",
        "#plt.axhline(y = 645000, linestyle = '--', color = 'black', lw = 1)\n",
        "plt.xlabel('Area (Sq.ft)', fontsize = 15)\n",
        "plt.ylabel('Price', fontsize = 15)\n",
        "plt.show()"
      ],
      "execution_count": 43,
      "outputs": [
        {
          "output_type": "display_data",
          "data": {
            "text/plain": [
              "<Figure size 640x480 with 1 Axes>"
            ],
            "image/png": "[encoded data removed]"
          },
          "metadata": {}
        }
      ]
    },
    {
      "cell_type": "code",
      "metadata": {
        "colab": {
          "base_uri": "https://localhost:8080/"
        },
        "id": "5vpifoFYctB7",
        "outputId": "498d034e-f43b-4718-f145-46b049bb8e02"
      },
      "source": [
        "# model evaluation\n",
        "rmse1 = mean_squared_error(Price, y_pred1)\n",
        "r2_1 = r2_score(Price, y_pred1)\n",
        "print(rmse1, r2_1)"
      ],
      "execution_count": 44,
      "outputs": [
        {
          "output_type": "stream",
          "name": "stdout",
          "text": [
            "186815068.49315006 0.9584301138199488\n"
          ]
        }
      ]
    },
    {
      "cell_type": "markdown",
      "metadata": {
        "id": "M8nzuYKAcS-q"
      },
      "source": [
        "''' Using Sklearn'''"
      ]
    },
    {
      "cell_type": "code",
      "metadata": {
        "id": "XIDti6iQJsCC"
      },
      "source": [
        "model = LinearRegression().fit(Area, Price)"
      ],
      "execution_count": 45,
      "outputs": []
    },
    {
      "cell_type": "markdown",
      "metadata": {
        "id": "ezS1Gpvc5l13"
      },
      "source": [
        "''' $R^{2}$ score: '' \\\\\n",
        "\n",
        "$R^{2} = 1 - \\frac{SS_{res}}{SS_{tot}}$\n",
        "\n",
        "The total sum of squares: $SS_{tot} = \\sum_{i}({y_{i} - \\bar{y}})^{2}$ \\\\\n",
        "The residual sum of squares: $SS_{res} = \\sum_{i}(y_{i} - \\hat{y}_{i} )^{2} = \\sum_{i}(Residual)^{2}$ \\\\\n",
        "If $\\bar{y}$ is the mean of the observed data: $\\bar{y} = \\frac{1}{n}\\sum_{i = 1}^{n}{y_{i}}$ \\\\"
      ]
    },
    {
      "cell_type": "code",
      "metadata": {
        "colab": {
          "base_uri": "https://localhost:8080/"
        },
        "id": "CyfoQ93tJ0P2",
        "outputId": "0bd17d7d-267e-4182-b3c0-8bd65b934a4e"
      },
      "source": [
        "r_sq = model.score(Area, Price)\n",
        "print('coefficient of determination:', r_sq)"
      ],
      "execution_count": 46,
      "outputs": [
        {
          "output_type": "stream",
          "name": "stdout",
          "text": [
            "coefficient of determination: 0.9584301138199486\n"
          ]
        }
      ]
    },
    {
      "cell_type": "code",
      "metadata": {
        "colab": {
          "base_uri": "https://localhost:8080/"
        },
        "id": "MnjdPv9rKFr7",
        "outputId": "8b8e9908-19be-4ba3-96a5-226eddc46369"
      },
      "source": [
        "print('intercept:', model.intercept_)\n",
        "print('slope:', model.coef_)"
      ],
      "execution_count": 47,
      "outputs": [
        {
          "output_type": "stream",
          "name": "stdout",
          "text": [
            "intercept: 180616.43835616432\n",
            "slope: [135.78767123]\n"
          ]
        }
      ]
    },
    {
      "cell_type": "code",
      "metadata": {
        "id": "B5A4hpk2KRio"
      },
      "source": [
        "y_pred2 = model.predict(Area)"
      ],
      "execution_count": 48,
      "outputs": []
    },
    {
      "cell_type": "code",
      "metadata": {
        "colab": {
          "base_uri": "https://localhost:8080/"
        },
        "id": "ia0PT3Bb31ZW",
        "outputId": "d8e21976-51cb-43f6-d3c0-126c3d6a6e1f"
      },
      "source": [
        "# model evaluation\n",
        "rmse2 = mean_squared_error(Price, y_pred2)\n",
        "r2_2 = r2_score(Price, y_pred2)\n",
        "print(rmse2, r2_2)"
      ],
      "execution_count": 49,
      "outputs": [
        {
          "output_type": "stream",
          "name": "stdout",
          "text": [
            "186815068.4931509 0.9584301138199486\n"
          ]
        }
      ]
    },
    {
      "cell_type": "code",
      "metadata": {
        "colab": {
          "base_uri": "https://localhost:8080/"
        },
        "id": "9lXkqTbrKc-5",
        "outputId": "031e4123-a355-442b-a9d1-e298898295fd"
      },
      "source": [
        "y_pred3 = model.intercept_ + model.coef_ * Area\n",
        "print('predicted response:', y_pred3, sep = '\\n')"
      ],
      "execution_count": 50,
      "outputs": [
        {
          "output_type": "stream",
          "name": "stdout",
          "text": [
            "predicted response:\n",
            "[[533664.38356164]\n",
            " [587979.45205479]\n",
            " [615136.98630137]\n",
            " [669452.05479452]\n",
            " [723767.12328767]]\n"
          ]
        }
      ]
    },
    {
      "cell_type": "code",
      "metadata": {
        "colab": {
          "base_uri": "https://localhost:8080/",
          "height": 450
        },
        "id": "rfSrmYNUKkbV",
        "outputId": "16c35216-3c3c-4ad2-d640-0f4e6e553ab5"
      },
      "source": [
        "plt.plot(Area, Price, 'o', color = 'red')\n",
        "plt.plot(Area, y_pred2, '-', color = 'navy')\n",
        "plt.show()"
      ],
      "execution_count": 51,
      "outputs": [
        {
          "output_type": "display_data",
          "data": {
            "text/plain": [
              "<Figure size 640x480 with 1 Axes>"
            ],
            "image/png": "[encoded data removed]"
          },
          "metadata": {}
        }
      ]
    },
    {
      "cell_type": "code",
      "source": [],
      "metadata": {
        "id": "p6ftJ5j-elCE"
      },
      "execution_count": 51,
      "outputs": []
    }
  ]
}