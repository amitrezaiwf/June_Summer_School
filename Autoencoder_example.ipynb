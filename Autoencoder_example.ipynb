{
 "cells": [
  {
   "cell_type": "code",
   "execution_count": 1,
   "id": "a2ee6cf4-9176-4790-9a22-e781a93dccd5",
   "metadata": {},
   "outputs": [],
   "source": [
    "import matplotlib.pyplot as plt\n",
    "import numpy as np\n",
    "import seaborn as sns; sns.set()\n",
    "\n",
    "import keras\n",
    "from keras.datasets import mnist\n",
    "from keras.models import Sequential, Model\n",
    "from keras.layers import Dense\n",
    "from keras.optimizers import Adam\n",
    "\n",
    "import tensorflow as tf\n",
    "\n",
    "from sklearn.metrics import accuracy_score, precision_score, recall_score\n",
    "from sklearn.model_selection import train_test_split\n",
    "from tensorflow.keras import layers, losses\n",
    "from tensorflow.keras.datasets import fashion_mnist\n",
    "from tensorflow.keras.models import Model"
   ]
  },
  {
   "cell_type": "code",
   "execution_count": 2,
   "id": "f477a109-d169-40b6-97f4-e69ab78e5b95",
   "metadata": {},
   "outputs": [
    {
     "name": "stdout",
     "output_type": "stream",
     "text": [
      "Downloading data from https://storage.googleapis.com/tensorflow/tf-keras-datasets/mnist.npz\n",
      "11490434/11490434 [==============================] - 3s 0us/step\n"
     ]
    }
   ],
   "source": [
    "(x_train, _), (x_test, _) = mnist.load_data()"
   ]
  },
  {
   "cell_type": "code",
   "execution_count": 3,
   "id": "f9ede2cd-fd27-4bf1-a984-4a6a89822667",
   "metadata": {},
   "outputs": [
    {
     "name": "stdout",
     "output_type": "stream",
     "text": [
      "(60000, 28, 28)\n",
      "(10000, 28, 28)\n"
     ]
    }
   ],
   "source": [
    "print(x_train.shape)\n",
    "print(x_test.shape)"
   ]
  },
  {
   "cell_type": "code",
   "execution_count": 4,
   "id": "7ed0216b-7622-4fe2-8307-01bafc92f44f",
   "metadata": {},
   "outputs": [],
   "source": [
    "x_train = x_train.reshape(x_train.shape[0], x_train.shape[1]*x_train.shape[2]) / 255\n",
    "x_test = x_test.reshape(x_test.shape[0], x_test.shape[1]*x_test.shape[2]) / 255"
   ]
  },
  {
   "cell_type": "code",
   "execution_count": 5,
   "id": "108febdf-84a2-4be8-95fd-2bece9446fc3",
   "metadata": {},
   "outputs": [
    {
     "name": "stdout",
     "output_type": "stream",
     "text": [
      "(60000, 784)\n",
      "(10000, 784)\n"
     ]
    }
   ],
   "source": [
    "print(x_train.shape)\n",
    "print(x_test.shape)"
   ]
  },
  {
   "cell_type": "code",
   "execution_count": 7,
   "id": "152b6299-0d33-4447-8915-bb4a54556efa",
   "metadata": {},
   "outputs": [],
   "source": [
    "class Autoencoder(Model):\n",
    "    def __init__(self, latent_dim, shape):\n",
    "        super(Autoencoder, self).__init__()\n",
    "        self.latent_dim = latent_dim\n",
    "        self.shape = shape\n",
    "        self.encoder = tf.keras.Sequential([\n",
    "        layers.Flatten(),\n",
    "        layers.Dense(latent_dim, activation = 'relu'),\n",
    "        ])\n",
    "        self.decoder = tf.keras.Sequential([\n",
    "        layers.Dense(tf.math.reduce_prod(shape).numpy(), activation = 'sigmoid'),\n",
    "        layers.Reshape(shape)\n",
    "        ])\n",
    "    \n",
    "    def call(self, x):\n",
    "        encoded = self.encoder(x)\n",
    "        decoded = self.decoder(encoded)\n",
    "        return decoded"
   ]
  },
  {
   "cell_type": "code",
   "execution_count": 13,
   "id": "20df4cbe-fc7a-4066-ab8d-30e2f8e8c406",
   "metadata": {},
   "outputs": [
    {
     "name": "stdout",
     "output_type": "stream",
     "text": [
      "(784,)\n"
     ]
    }
   ],
   "source": [
    "shape = x_test.shape[1:]\n",
    "print(shape)"
   ]
  },
  {
   "cell_type": "code",
   "execution_count": 24,
   "id": "684cd2c1-168b-4532-939b-dc0eda7aac2d",
   "metadata": {},
   "outputs": [],
   "source": [
    "latent_dim = 10\n",
    "autoencoder = Autoencoder(latent_dim, shape)"
   ]
  },
  {
   "cell_type": "code",
   "execution_count": 25,
   "id": "be628afb-5287-4667-a54d-18667660f0e0",
   "metadata": {},
   "outputs": [],
   "source": [
    "autoencoder.compile(optimizer = 'adam', loss = losses.MeanSquaredError())"
   ]
  },
  {
   "cell_type": "code",
   "execution_count": 26,
   "id": "a8a55dae-f004-4347-bc7b-64d8bca53573",
   "metadata": {},
   "outputs": [
    {
     "name": "stdout",
     "output_type": "stream",
     "text": [
      "Epoch 1/10\n",
      "1875/1875 [==============================] - 1s 625us/step - loss: 0.0479 - val_loss: 0.0341\n",
      "Epoch 2/10\n",
      "1875/1875 [==============================] - 1s 567us/step - loss: 0.0332 - val_loss: 0.0319\n",
      "Epoch 3/10\n",
      "1875/1875 [==============================] - 1s 557us/step - loss: 0.0317 - val_loss: 0.0309\n",
      "Epoch 4/10\n",
      "1875/1875 [==============================] - 1s 550us/step - loss: 0.0310 - val_loss: 0.0303\n",
      "Epoch 5/10\n",
      "1875/1875 [==============================] - 1s 566us/step - loss: 0.0306 - val_loss: 0.0301\n",
      "Epoch 6/10\n",
      "1875/1875 [==============================] - 1s 569us/step - loss: 0.0304 - val_loss: 0.0299\n",
      "Epoch 7/10\n",
      "1875/1875 [==============================] - 1s 565us/step - loss: 0.0302 - val_loss: 0.0298\n",
      "Epoch 8/10\n",
      "1875/1875 [==============================] - 1s 569us/step - loss: 0.0301 - val_loss: 0.0297\n",
      "Epoch 9/10\n",
      "1875/1875 [==============================] - 1s 567us/step - loss: 0.0300 - val_loss: 0.0296\n",
      "Epoch 10/10\n",
      "1875/1875 [==============================] - 1s 590us/step - loss: 0.0300 - val_loss: 0.0295\n"
     ]
    },
    {
     "data": {
      "text/plain": [
       "<keras.callbacks.History at 0x29aa40640>"
      ]
     },
     "execution_count": 26,
     "metadata": {},
     "output_type": "execute_result"
    }
   ],
   "source": [
    "autoencoder.fit(x_train, x_train, epochs = 10, shuffle = True, validation_data = (x_test, x_test))"
   ]
  },
  {
   "cell_type": "code",
   "execution_count": 27,
   "id": "1054e46c-3dc8-4f5d-90bd-2167526d6686",
   "metadata": {},
   "outputs": [],
   "source": [
    "encoded_imgs = autoencoder.encoder(x_test).numpy()\n",
    "reconst_imgs = autoencoder.decoder(encoded_imgs).numpy()"
   ]
  },
  {
   "cell_type": "code",
   "execution_count": 28,
   "id": "b55b8c40-0ffe-423c-84e2-8448f37935c7",
   "metadata": {},
   "outputs": [
    {
     "name": "stdout",
     "output_type": "stream",
     "text": [
      "(10000, 10)\n",
      "(10000, 784)\n"
     ]
    }
   ],
   "source": [
    "print(encoded_imgs.shape)\n",
    "print(reconst_imgs.shape)"
   ]
  },
  {
   "cell_type": "code",
   "execution_count": 29,
   "id": "c5b3f2cb-148e-4c25-9850-06539630282e",
   "metadata": {},
   "outputs": [
    {
     "name": "stdout",
     "output_type": "stream",
     "text": [
      "(10000, 28, 28)\n"
     ]
    }
   ],
   "source": [
    "reconst_imgs0 = reconst_imgs.reshape(reconst_imgs.shape[0], 28, 28)\n",
    "print(reconst_imgs0.shape)"
   ]
  },
  {
   "cell_type": "code",
   "execution_count": 30,
   "id": "df0c2242-bb9f-4c83-b555-c064c5a49681",
   "metadata": {},
   "outputs": [
    {
     "name": "stdout",
     "output_type": "stream",
     "text": [
      "(10000, 28, 28)\n"
     ]
    }
   ],
   "source": [
    "x_test0 = x_test.reshape(x_test.shape[0], 28, 28)\n",
    "print(x_test0.shape)"
   ]
  },
  {
   "cell_type": "code",
   "execution_count": 31,
   "id": "885f1e5a-2c96-42d3-ad7a-5148ada773ce",
   "metadata": {},
   "outputs": [
    {
     "data": {
      "image/png": "[encoded data removed]",
      "text/plain": [
       "<Figure size 2000x400 with 20 Axes>"
      ]
     },
     "metadata": {},
     "output_type": "display_data"
    }
   ],
   "source": [
    "n = 10\n",
    "plt.figure(figsize = (20, 4))\n",
    "for i in range(n):\n",
    "    # display original\n",
    "    ax = plt.subplot(2, n, i + 1)\n",
    "    plt.imshow(x_test0[i])\n",
    "    plt.title(\"original\")\n",
    "    plt.gray()\n",
    "    ax.get_xaxis().set_visible(False)\n",
    "    ax.get_yaxis().set_visible(False)\n",
    "\n",
    "    # display reconstruction\n",
    "    ax = plt.subplot(2, n, i + 1 + n)\n",
    "    plt.imshow(reconst_imgs0[i])\n",
    "    plt.title(\"reconstructed\")\n",
    "    plt.gray()\n",
    "    ax.get_xaxis().set_visible(False)\n",
    "    ax.get_yaxis().set_visible(False)\n",
    "\n",
    "plt.show()"
   ]
  },
  {
   "cell_type": "code",
   "execution_count": null,
   "id": "5957156e-da41-44e1-ad4a-35ae276f2242",
   "metadata": {},
   "outputs": [],
   "source": []
  }
 ],
 "metadata": {
  "kernelspec": {
   "display_name": "TFmacOS",
   "language": "python",
   "name": "tfmacos"
  },
  "language_info": {
   "codemirror_mode": {
    "name": "ipython",
    "version": 3
   },
   "file_extension": ".py",
   "mimetype": "text/x-python",
   "name": "python",
   "nbconvert_exporter": "python",
   "pygments_lexer": "ipython3",
   "version": "3.9.15"
  }
 },
 "nbformat": 4,
 "nbformat_minor": 5
}
